{
 "cells": [
  {
   "cell_type": "markdown",
   "metadata": {},
   "source": [
    "### Setting up the environment:"
   ]
  },
  {
   "cell_type": "code",
   "execution_count": 8,
   "metadata": {},
   "outputs": [],
   "source": [
    "#1# Importing libraries: \n",
    "import numpy as np\n",
    "import pandas as pd\n",
    "from sklearn.model_selection import train_test_split\n",
    "\n",
    "from sklearn.linear_model import LogisticRegression\n",
    "from sklearn.neighbors import KNeighborsClassifier\n",
    "from sklearn.tree import DecisionTreeClassifier\n",
    "from sklearn.ensemble import RandomForestClassifier\n",
    "from sklearn.preprocessing import MinMaxScaler\n",
    "from imblearn.over_sampling import RandomOverSampler\n",
    "\n",
    "from sklearn.metrics import accuracy_score, confusion_matrix, recall_score\n",
    "\n",
    "import warnings\n",
    "warnings.filterwarnings(\"ignore\")\n",
    "\n",
    "RSEED=42\n",
    "\n",
    "#2# Visualizing the dataset:\n",
    "import matplotlib.pyplot as plt\n",
    "import seaborn as sns\n",
    "from matplotlib.ticker import PercentFormatter\n",
    "plt.rcParams.update({ \"figure.figsize\" : (8, 5),\"axes.facecolor\" : \"white\", \"axes.edgecolor\":  \"black\"})\n",
    "plt.rcParams[\"figure.facecolor\"]= \"w\"\n",
    "pd.plotting.register_matplotlib_converters()\n",
    "pd.set_option('display.float_format', lambda x: '%.3f' % x)\n",
    "\n",
    "#3# Importing the original dataset with dummies:\n",
    "df_fraud = pd.read_csv('./data/df_fraud_dummy.csv')"
   ]
  },
  {
   "cell_type": "markdown",
   "metadata": {},
   "source": [
    "#### Creating the filtered data frame: "
   ]
  },
  {
   "cell_type": "code",
   "execution_count": 9,
   "metadata": {},
   "outputs": [
    {
     "data": {
      "text/plain": [
       "ID                      31449\n",
       "invoice_date             5946\n",
       "tarif_type                 10\n",
       "counter_number          33347\n",
       "counter_coefficient         8\n",
       "consommation_level_1     3964\n",
       "consommation_level_2     7052\n",
       "consommation_level_3     1426\n",
       "consommation_level_4     6444\n",
       "months_number             106\n",
       "counter_type                1\n",
       "region                     24\n",
       "creation_date            6701\n",
       "target                      2\n",
       "counter_statue_1            2\n",
       "counter_statue_2            2\n",
       "counter_statue_3            2\n",
       "counter_statue_4            2\n",
       "counter_statue_5            2\n",
       "reading_remarque_7          2\n",
       "reading_remarque_8          2\n",
       "reading_remarque_9          2\n",
       "client_catg_12              2\n",
       "client_catg_51              2\n",
       "sum_consu               10874\n",
       "dtype: int64"
      ]
     },
     "execution_count": 9,
     "metadata": {},
     "output_type": "execute_result"
    }
   ],
   "source": [
    "#1# JUST FOR THE ELETRIC TYPE:\n",
    "# ELEC= 0 and Gas =1:\n",
    "\n",
    "column_to_check_eletric = 'counter_type'\n",
    "df_eletric = df_fraud[df_fraud[column_to_check_eletric] == 0]\n",
    "df_eletric.nunique()"
   ]
  },
  {
   "cell_type": "code",
   "execution_count": 10,
   "metadata": {},
   "outputs": [
    {
     "data": {
      "text/plain": [
       "ID                      1756\n",
       "invoice_date            3262\n",
       "tarif_type                 8\n",
       "counter_number          2420\n",
       "counter_coefficient        2\n",
       "consommation_level_1    1987\n",
       "consommation_level_2    2733\n",
       "consommation_level_3     793\n",
       "consommation_level_4    2262\n",
       "months_number             31\n",
       "counter_type               1\n",
       "region                    24\n",
       "creation_date           1342\n",
       "target                     1\n",
       "counter_statue_1           2\n",
       "counter_statue_2           1\n",
       "counter_statue_3           1\n",
       "counter_statue_4           2\n",
       "counter_statue_5           2\n",
       "reading_remarque_7         1\n",
       "reading_remarque_8         2\n",
       "reading_remarque_9         2\n",
       "client_catg_12             2\n",
       "client_catg_51             2\n",
       "sum_consu               5016\n",
       "dtype: int64"
      ]
     },
     "execution_count": 10,
     "metadata": {},
     "output_type": "execute_result"
    }
   ],
   "source": [
    "#2# JUST FOR FRAUD IN ELETRIC TYPE: \n",
    "# Fraud = 1 , Non-fraud = 0\n",
    "\n",
    "column_to_check_fraud = 'target'\n",
    "df_eletric_fraud = df_eletric[df_eletric[column_to_check_fraud] == 1]\n",
    "df_eletric_fraud.nunique()"
   ]
  }
 ],
 "metadata": {
  "kernelspec": {
   "display_name": ".venv",
   "language": "python",
   "name": "python3"
  },
  "language_info": {
   "codemirror_mode": {
    "name": "ipython",
    "version": 3
   },
   "file_extension": ".py",
   "mimetype": "text/x-python",
   "name": "python",
   "nbconvert_exporter": "python",
   "pygments_lexer": "ipython3",
   "version": "3.10.5"
  },
  "orig_nbformat": 4
 },
 "nbformat": 4,
 "nbformat_minor": 2
}
