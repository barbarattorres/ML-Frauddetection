{
 "cells": [
  {
   "cell_type": "markdown",
   "metadata": {},
   "source": [
    "### Setting up the environment:"
   ]
  },
  {
   "cell_type": "code",
   "execution_count": null,
   "metadata": {},
   "outputs": [],
   "source": [
    "#1# Importing libraries: \n",
    "import numpy as np\n",
    "import pandas as pd\n",
    "from sklearn.model_selection import train_test_split\n",
    "\n",
    "from sklearn.linear_model import LogisticRegression\n",
    "from sklearn.neighbors import KNeighborsClassifier\n",
    "from sklearn.tree import DecisionTreeClassifier\n",
    "from sklearn.ensemble import RandomForestClassifier\n",
    "from imblearn.over_sampling import SMOTE\n",
    "from sklearn.preprocessing import MinMaxScaler\n",
    "\n",
    "from sklearn.metrics import accuracy_score, classification_report, recall_score\n",
    "\n",
    "import warnings\n",
    "warnings.filterwarnings(\"ignore\")\n",
    "\n",
    "RSEED=42\n",
    "\n",
    "#2# Visualizing the dataset:\n",
    "import matplotlib.pyplot as plt\n",
    "import seaborn as sns\n",
    "from matplotlib.ticker import PercentFormatter\n",
    "plt.rcParams.update({ \"figure.figsize\" : (8, 5),\"axes.facecolor\" : \"white\", \"axes.edgecolor\":  \"black\"})\n",
    "plt.rcParams[\"figure.facecolor\"]= \"w\"\n",
    "pd.plotting.register_matplotlib_converters()\n",
    "pd.set_option('display.float_format', lambda x: '%.3f' % x)\n",
    "\n",
    "#3# Importing the original dataset with dummies:\n",
    "df_fraud = pd.read_csv('./data/df_fraud_dummy.csv')"
   ]
  },
  {
   "cell_type": "markdown",
   "metadata": {},
   "source": [
    "#### Creating the filtered data frame: "
   ]
  },
  {
   "cell_type": "code",
   "execution_count": null,
   "metadata": {},
   "outputs": [],
   "source": [
    "#1# JUST FOR THE GAS TYPE:\n",
    "\n",
    "# ELEC= 0 and Gas =1:\n",
    "column_to_check_gas = 'counter_type'\n",
    "df_gas = df_fraud[df_fraud[column_to_check_gas] == 1]\n",
    "#df_gas.nunique()"
   ]
  },
  {
   "cell_type": "code",
   "execution_count": null,
   "metadata": {},
   "outputs": [],
   "source": [
    "#2# JUST FOR FRAUD IN GAS TYPE: \n",
    "\n",
    "# Fraud = 1 , Non-fraud = 0\n",
    "column_to_check_fraud = 'target'\n",
    "df_gas_fraud = df_gas[df_gas[column_to_check_fraud] == 1]\n",
    "#df_gas_fraud.nunique()"
   ]
  },
  {
   "cell_type": "markdown",
   "metadata": {},
   "source": [
    "#### Preparing the data: "
   ]
  },
  {
   "cell_type": "code",
   "execution_count": null,
   "metadata": {},
   "outputs": [],
   "source": [
    "#1# Preparing the data:\n",
    "# The data is too big for the machine to handle. \n",
    "# Therefore, We'll keep only the most important features,according to what was discussed within the group.\n",
    "\n",
    "df_gas.drop(['ID', 'invoice_date', 'consommation_level_1',\n",
    "       'consommation_level_2', 'consommation_level_3', 'consommation_level_4',\n",
    "       \"client_catg_12\", \"client_catg_51\", 'region',\n",
    "       'creation_date','counter_statue_1', 'counter_statue_2', 'counter_statue_3',\n",
    "       'counter_statue_4', 'counter_statue_5', 'reading_remarque_7',\n",
    "       'reading_remarque_8', 'reading_remarque_9','counter_number'],axis=1,inplace=True)\n",
    "\n",
    "df_gas.columns"
   ]
  },
  {
   "cell_type": "code",
   "execution_count": null,
   "metadata": {},
   "outputs": [],
   "source": [
    "#2# Splitting the data:\n",
    "\n",
    "y = df_gas['target']\n",
    "X = df_gas.drop('target', axis=1)\n",
    "\n",
    "X_train , X_test , y_train , y_test = train_test_split(X,y, stratify=y, test_size=0.3, random_state=RSEED)"
   ]
  },
  {
   "cell_type": "code",
   "execution_count": null,
   "metadata": {},
   "outputs": [],
   "source": [
    "#2# Scaling the data for a better performance:\n",
    "scaler = MinMaxScaler()\n",
    "X_train_norm = scaler.fit_transform(X_train)\n",
    "X_test_norm = scaler.transform(X_test)"
   ]
  },
  {
   "cell_type": "markdown",
   "metadata": {},
   "source": [
    "#### Logistc Regression analysis: "
   ]
  },
  {
   "cell_type": "code",
   "execution_count": null,
   "metadata": {},
   "outputs": [],
   "source": [
    "#1# Dealing with the imbalance: \n",
    "# Synthetic Data Generation (e.g., SMOTE): Create synthetic samples for the minority class.\n",
    "\n",
    "smote = SMOTE(random_state=RSEED)\n",
    "X_train_smt, y_train_smt = smote.fit_resample(X_train_norm, y_train)\n"
   ]
  },
  {
   "cell_type": "code",
   "execution_count": null,
   "metadata": {},
   "outputs": [],
   "source": [
    "#2# Training the model:\n",
    "log_mod = LogisticRegression(class_weight='balanced', penalty='l2', C=1.0, solver='liblinear', random_state=RSEED)\n",
    "log_mod.fit(X_train_smt, y_train_smt)"
   ]
  },
  {
   "cell_type": "code",
   "execution_count": null,
   "metadata": {},
   "outputs": [],
   "source": [
    "#4# Making a prediction train:\n",
    "y_pred_train = log_mod.predict(X_train_smt)\n",
    "classif_train = classification_report(y_train_smt, y_pred_train)\n",
    "\n",
    "#Printing: \n",
    "print(classif_train)\n",
    "\n",
    "#5# Making a prediction test:\n",
    "y_pred_test = log_mod.predict(X_test)\t\n",
    "classif_test = classification_report(y_test, y_pred_test)\n",
    "\n",
    "#Printing: \n",
    "print(classif_test)"
   ]
  },
  {
   "cell_type": "markdown",
   "metadata": {},
   "source": [
    "#### Random Forest:"
   ]
  },
  {
   "cell_type": "code",
   "execution_count": null,
   "metadata": {},
   "outputs": [],
   "source": [
    "#1# Training the model:\n",
    "rf_mod = RandomForestClassifier(n_estimators=100, random_state=RSEED)\n",
    "rf_mod.fit(X_train_smt, y_train_smt)"
   ]
  },
  {
   "cell_type": "code",
   "execution_count": null,
   "metadata": {},
   "outputs": [],
   "source": [
    "#3# Making a prediction:\n",
    "\n",
    "#A# Train Data:\n",
    "y_pred_train_rf = rf_mod.predict(X_train_smt)\n",
    "classif_train_rf = classification_report(y_train_smt, y_pred_train_rf)\n",
    "\n",
    "#B# Test Data:\n",
    "y_pred_test_rf = rf_mod.predict(X_test)\n",
    "classif_test_rf = classification_report(y_test, y_pred_test_rf)"
   ]
  },
  {
   "cell_type": "code",
   "execution_count": null,
   "metadata": {},
   "outputs": [],
   "source": [
    "#3#Printing evaluation:\n",
    " \n",
    "print(f\"Train Logistic Classification: \\n {classif_train_rf}\")\n",
    "\n",
    "print(f\"Test Logistic Classification: \\n {classif_test_rf}\")"
   ]
  }
 ],
 "metadata": {
  "language_info": {
   "name": "python"
  },
  "orig_nbformat": 4
 },
 "nbformat": 4,
 "nbformat_minor": 2
}
